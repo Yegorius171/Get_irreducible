{
 "cells": [
  {
   "cell_type": "markdown",
   "metadata": {},
   "source": [
    "# get_irreducible(q,degree) - нахождение неприводимых многочленов в конечных полях\n",
    "BY Y.B.\n",
    "\n",
    "* q - поле коэффициентов многочлена\n",
    "* degree - степень интересующих неприводимых многочленов"
   ]
  },
  {
   "cell_type": "code",
   "execution_count": 105,
   "metadata": {},
   "outputs": [],
   "source": [
    "def create_table(q,degree):\n",
    "    R.<x> = GF(q)['x']\n",
    "    polynoms = list([] for i in range(degree+1))\n",
    "    for deg in range(degree+1):\n",
    "        if (deg == 0):\n",
    "            for j in range(q):\n",
    "                polynoms[0].append(R(j))\n",
    "            continue\n",
    "        for j in range(q-1):\n",
    "            for prev_deg in range(deg):\n",
    "                for pol in polynoms[prev_deg]:\n",
    "                    polynoms[deg].append(pol + (j+1) * x^deg)\n",
    "    return polynoms"
   ]
  },
  {
   "cell_type": "code",
   "execution_count": 108,
   "metadata": {},
   "outputs": [],
   "source": [
    "def get_irreducible(q,degree):\n",
    "    R.<x> = GF(q)['x']\n",
    "    table = create_table(q,degree)\n",
    "    irreducible = table[degree] # Отсюда будем убирать многочлены\n",
    "    for i in range(degree):\n",
    "        if i == 0:\n",
    "            continue\n",
    "        if i > degree/2:            \n",
    "            return irreducible\n",
    "        for pol1 in table[i]:\n",
    "            for pol2 in table[degree-i]:\n",
    "                mul_pol = R(pol1*pol2)\n",
    "                if (mul_pol in irreducible):\n",
    "                    irreducible.remove(mul_pol)\n",
    "    return(irreducible)"
   ]
  },
  {
   "cell_type": "code",
   "execution_count": 113,
   "metadata": {},
   "outputs": [
    {
     "data": {
      "text/plain": [
       "[x^2 + 1,\n",
       " x^2 + x + 2,\n",
       " x^2 + 2*x + 2,\n",
       " 2*x^2 + 2,\n",
       " 2*x^2 + x + 1,\n",
       " 2*x^2 + 2*x + 1]"
      ]
     },
     "execution_count": 113,
     "metadata": {},
     "output_type": "execute_result"
    }
   ],
   "source": [
    "get_irreducible(3,2)"
   ]
  }
 ],
 "metadata": {
  "kernelspec": {
   "display_name": "SageMath 9.1",
   "language": "sage",
   "name": "sagemath"
  },
  "language_info": {
   "codemirror_mode": {
    "name": "ipython",
    "version": 3
   },
   "file_extension": ".py",
   "mimetype": "text/x-python",
   "name": "python",
   "nbconvert_exporter": "python",
   "pygments_lexer": "ipython3",
   "version": "3.8.5"
  }
 },
 "nbformat": 4,
 "nbformat_minor": 4
}
